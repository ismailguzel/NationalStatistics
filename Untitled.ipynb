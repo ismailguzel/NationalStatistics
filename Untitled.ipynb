{
 "cells": [
  {
   "cell_type": "code",
   "execution_count": 94,
   "metadata": {},
   "outputs": [],
   "source": [
    "library(haven) # read_dta\n",
    "library(foreign) # read.dta"
   ]
  },
  {
   "cell_type": "code",
   "execution_count": 95,
   "metadata": {},
   "outputs": [],
   "source": [
    "mydata <- read_dta(\"QDATA.dta\")\n",
    "mydata1 <- read.dta(\"QDATA.dta\")"
   ]
  },
  {
   "cell_type": "code",
   "execution_count": 91,
   "metadata": {},
   "outputs": [
    {
     "data": {
      "text/html": [
       "<table>\n",
       "<thead><tr><th scope=col>Casenew</th><th scope=col>INDWGT</th><th scope=col>MCZ_1</th><th scope=col>MCZ_2</th><th scope=col>MCZ_3</th><th scope=col>MCZ_4</th><th scope=col>MCZ_5</th><th scope=col>MCZ_7</th><th scope=col>MCZ_8</th><th scope=col>MCZ_9</th><th scope=col>...</th><th scope=col>RSEX</th><th scope=col>AGEXr</th><th scope=col>Martstat3r</th><th scope=col>HighEd4r</th><th scope=col>Ethnicity2r</th><th scope=col>DVILO3ar</th><th scope=col>FtPtWkr</th><th scope=col>NSECAC3</th><th scope=col>GorA</th><th scope=col>INDWGTr</th></tr></thead>\n",
       "<tbody>\n",
       "\t<tr><td>12       </td><td> 20921.59</td><td> 9       </td><td> 9       </td><td> 7       </td><td>5        </td><td> 6       </td><td>8        </td><td> 9       </td><td>10       </td><td>...      </td><td>2        </td><td>2        </td><td>2        </td><td>2        </td><td>1        </td><td>3        </td><td>NA       </td><td>4        </td><td>11       </td><td>0.4244214</td></tr>\n",
       "\t<tr><td>15       </td><td> 90528.50</td><td> 8       </td><td> 9       </td><td> 9       </td><td>2        </td><td>10       </td><td>8        </td><td>10       </td><td>NA       </td><td>...      </td><td>1        </td><td>3        </td><td>1        </td><td>2        </td><td>1        </td><td>1        </td><td> 1       </td><td>1        </td><td> 3       </td><td>1.8364873</td></tr>\n",
       "\t<tr><td>18       </td><td> 50285.04</td><td> 7       </td><td> 8       </td><td> 8       </td><td>0        </td><td>10       </td><td>8        </td><td> 8       </td><td>NA       </td><td>...      </td><td>1        </td><td>3        </td><td>1        </td><td>4        </td><td>2        </td><td>1        </td><td> 1       </td><td>3        </td><td> 2       </td><td>1.0200968</td></tr>\n",
       "\t<tr><td>20       </td><td> 40243.13</td><td> 8       </td><td>10       </td><td>10       </td><td>0        </td><td> 8       </td><td>5        </td><td> 6       </td><td>NA       </td><td>...      </td><td>2        </td><td>5        </td><td>1        </td><td>4        </td><td>1        </td><td>3        </td><td>NA       </td><td>4        </td><td> 4       </td><td>0.8163838</td></tr>\n",
       "\t<tr><td>54       </td><td>125510.36</td><td> 9       </td><td> 9       </td><td> 8       </td><td>7        </td><td> 7       </td><td>7        </td><td> 9       </td><td>NA       </td><td>...      </td><td>2        </td><td>3        </td><td>3        </td><td>2        </td><td>1        </td><td>1        </td><td> 2       </td><td>1        </td><td> 7       </td><td>2.5461393</td></tr>\n",
       "\t<tr><td>54       </td><td> 99109.51</td><td> 7       </td><td> 9       </td><td> 6       </td><td>7        </td><td> 8       </td><td>9        </td><td> 5       </td><td>NA       </td><td>...      </td><td>2        </td><td>1        </td><td>2        </td><td>2        </td><td>1        </td><td>3        </td><td>NA       </td><td>4        </td><td> 8       </td><td>2.0105641</td></tr>\n",
       "\t<tr><td>67       </td><td> 42479.44</td><td> 9       </td><td> 9       </td><td> 8       </td><td>1        </td><td> 9       </td><td>6        </td><td> 9       </td><td> 9       </td><td>...      </td><td>2        </td><td>2        </td><td>1        </td><td>1        </td><td>1        </td><td>1        </td><td> 2       </td><td>2        </td><td> 8       </td><td>0.8617502</td></tr>\n",
       "\t<tr><td>89       </td><td> 59994.19</td><td>10       </td><td>10       </td><td>10       </td><td>0        </td><td> 9       </td><td>9        </td><td>10       </td><td>NA       </td><td>...      </td><td>1        </td><td>3        </td><td>1        </td><td>2        </td><td>1        </td><td>1        </td><td> 1       </td><td>2        </td><td> 4       </td><td>1.2170595</td></tr>\n",
       "\t<tr><td>91       </td><td> 28701.99</td><td>10       </td><td>10       </td><td> 9       </td><td>0        </td><td>10       </td><td>5        </td><td>10       </td><td>NA       </td><td>...      </td><td>2        </td><td>6        </td><td>3        </td><td>2        </td><td>1        </td><td>3        </td><td>NA       </td><td>4        </td><td> 3       </td><td>0.5822568</td></tr>\n",
       "\t<tr><td>96       </td><td> 59065.91</td><td> 7       </td><td> 6       </td><td> 4       </td><td>9        </td><td>10       </td><td>7        </td><td> 8       </td><td>NA       </td><td>...      </td><td>1        </td><td>4        </td><td>1        </td><td>3        </td><td>1        </td><td>1        </td><td> 1       </td><td>1        </td><td> 5       </td><td>1.1982281</td></tr>\n",
       "</tbody>\n",
       "</table>\n"
      ],
      "text/latex": [
       "\\begin{tabular}{r|lllllllllllllllllllllllll}\n",
       " Casenew & INDWGT & MCZ\\_1 & MCZ\\_2 & MCZ\\_3 & MCZ\\_4 & MCZ\\_5 & MCZ\\_7 & MCZ\\_8 & MCZ\\_9 & ... & RSEX & AGEXr & Martstat3r & HighEd4r & Ethnicity2r & DVILO3ar & FtPtWkr & NSECAC3 & GorA & INDWGTr\\\\\n",
       "\\hline\n",
       "\t 12        &  20921.59 &  9        &  9        &  7        & 5         &  6        & 8         &  9        & 10        & ...       & 2         & 2         & 2         & 2         & 1         & 3         & NA        & 4         & 11        & 0.4244214\\\\\n",
       "\t 15        &  90528.50 &  8        &  9        &  9        & 2         & 10        & 8         & 10        & NA        & ...       & 1         & 3         & 1         & 2         & 1         & 1         &  1        & 1         &  3        & 1.8364873\\\\\n",
       "\t 18        &  50285.04 &  7        &  8        &  8        & 0         & 10        & 8         &  8        & NA        & ...       & 1         & 3         & 1         & 4         & 2         & 1         &  1        & 3         &  2        & 1.0200968\\\\\n",
       "\t 20        &  40243.13 &  8        & 10        & 10        & 0         &  8        & 5         &  6        & NA        & ...       & 2         & 5         & 1         & 4         & 1         & 3         & NA        & 4         &  4        & 0.8163838\\\\\n",
       "\t 54        & 125510.36 &  9        &  9        &  8        & 7         &  7        & 7         &  9        & NA        & ...       & 2         & 3         & 3         & 2         & 1         & 1         &  2        & 1         &  7        & 2.5461393\\\\\n",
       "\t 54        &  99109.51 &  7        &  9        &  6        & 7         &  8        & 9         &  5        & NA        & ...       & 2         & 1         & 2         & 2         & 1         & 3         & NA        & 4         &  8        & 2.0105641\\\\\n",
       "\t 67        &  42479.44 &  9        &  9        &  8        & 1         &  9        & 6         &  9        &  9        & ...       & 2         & 2         & 1         & 1         & 1         & 1         &  2        & 2         &  8        & 0.8617502\\\\\n",
       "\t 89        &  59994.19 & 10        & 10        & 10        & 0         &  9        & 9         & 10        & NA        & ...       & 1         & 3         & 1         & 2         & 1         & 1         &  1        & 2         &  4        & 1.2170595\\\\\n",
       "\t 91        &  28701.99 & 10        & 10        &  9        & 0         & 10        & 5         & 10        & NA        & ...       & 2         & 6         & 3         & 2         & 1         & 3         & NA        & 4         &  3        & 0.5822568\\\\\n",
       "\t 96        &  59065.91 &  7        &  6        &  4        & 9         & 10        & 7         &  8        & NA        & ...       & 1         & 4         & 1         & 3         & 1         & 1         &  1        & 1         &  5        & 1.1982281\\\\\n",
       "\\end{tabular}\n"
      ],
      "text/markdown": [
       "\n",
       "Casenew | INDWGT | MCZ_1 | MCZ_2 | MCZ_3 | MCZ_4 | MCZ_5 | MCZ_7 | MCZ_8 | MCZ_9 | ... | RSEX | AGEXr | Martstat3r | HighEd4r | Ethnicity2r | DVILO3ar | FtPtWkr | NSECAC3 | GorA | INDWGTr | \n",
       "|---|---|---|---|---|---|---|---|---|---|\n",
       "| 12        |  20921.59 |  9        |  9        |  7        | 5         |  6        | 8         |  9        | 10        | ...       | 2         | 2         | 2         | 2         | 1         | 3         | NA        | 4         | 11        | 0.4244214 | \n",
       "| 15        |  90528.50 |  8        |  9        |  9        | 2         | 10        | 8         | 10        | NA        | ...       | 1         | 3         | 1         | 2         | 1         | 1         |  1        | 1         |  3        | 1.8364873 | \n",
       "| 18        |  50285.04 |  7        |  8        |  8        | 0         | 10        | 8         |  8        | NA        | ...       | 1         | 3         | 1         | 4         | 2         | 1         |  1        | 3         |  2        | 1.0200968 | \n",
       "| 20        |  40243.13 |  8        | 10        | 10        | 0         |  8        | 5         |  6        | NA        | ...       | 2         | 5         | 1         | 4         | 1         | 3         | NA        | 4         |  4        | 0.8163838 | \n",
       "| 54        | 125510.36 |  9        |  9        |  8        | 7         |  7        | 7         |  9        | NA        | ...       | 2         | 3         | 3         | 2         | 1         | 1         |  2        | 1         |  7        | 2.5461393 | \n",
       "| 54        |  99109.51 |  7        |  9        |  6        | 7         |  8        | 9         |  5        | NA        | ...       | 2         | 1         | 2         | 2         | 1         | 3         | NA        | 4         |  8        | 2.0105641 | \n",
       "| 67        |  42479.44 |  9        |  9        |  8        | 1         |  9        | 6         |  9        |  9        | ...       | 2         | 2         | 1         | 1         | 1         | 1         |  2        | 2         |  8        | 0.8617502 | \n",
       "| 89        |  59994.19 | 10        | 10        | 10        | 0         |  9        | 9         | 10        | NA        | ...       | 1         | 3         | 1         | 2         | 1         | 1         |  1        | 2         |  4        | 1.2170595 | \n",
       "| 91        |  28701.99 | 10        | 10        |  9        | 0         | 10        | 5         | 10        | NA        | ...       | 2         | 6         | 3         | 2         | 1         | 3         | NA        | 4         |  3        | 0.5822568 | \n",
       "| 96        |  59065.91 |  7        |  6        |  4        | 9         | 10        | 7         |  8        | NA        | ...       | 1         | 4         | 1         | 3         | 1         | 1         |  1        | 1         |  5        | 1.1982281 | \n",
       "\n",
       "\n"
      ],
      "text/plain": [
       "   Casenew INDWGT    MCZ_1 MCZ_2 MCZ_3 MCZ_4 MCZ_5 MCZ_7 MCZ_8 MCZ_9 ... RSEX\n",
       "1  12       20921.59  9     9     7    5      6    8      9    10    ... 2   \n",
       "2  15       90528.50  8     9     9    2     10    8     10    NA    ... 1   \n",
       "3  18       50285.04  7     8     8    0     10    8      8    NA    ... 1   \n",
       "4  20       40243.13  8    10    10    0      8    5      6    NA    ... 2   \n",
       "5  54      125510.36  9     9     8    7      7    7      9    NA    ... 2   \n",
       "6  54       99109.51  7     9     6    7      8    9      5    NA    ... 2   \n",
       "7  67       42479.44  9     9     8    1      9    6      9     9    ... 2   \n",
       "8  89       59994.19 10    10    10    0      9    9     10    NA    ... 1   \n",
       "9  91       28701.99 10    10     9    0     10    5     10    NA    ... 2   \n",
       "10 96       59065.91  7     6     4    9     10    7      8    NA    ... 1   \n",
       "   AGEXr Martstat3r HighEd4r Ethnicity2r DVILO3ar FtPtWkr NSECAC3 GorA\n",
       "1  2     2          2        1           3        NA      4       11  \n",
       "2  3     1          2        1           1         1      1        3  \n",
       "3  3     1          4        2           1         1      3        2  \n",
       "4  5     1          4        1           3        NA      4        4  \n",
       "5  3     3          2        1           1         2      1        7  \n",
       "6  1     2          2        1           3        NA      4        8  \n",
       "7  2     1          1        1           1         2      2        8  \n",
       "8  3     1          2        1           1         1      2        4  \n",
       "9  6     3          2        1           3        NA      4        3  \n",
       "10 4     1          3        1           1         1      1        5  \n",
       "   INDWGTr  \n",
       "1  0.4244214\n",
       "2  1.8364873\n",
       "3  1.0200968\n",
       "4  0.8163838\n",
       "5  2.5461393\n",
       "6  2.0105641\n",
       "7  0.8617502\n",
       "8  1.2170595\n",
       "9  0.5822568\n",
       "10 1.1982281"
      ]
     },
     "metadata": {},
     "output_type": "display_data"
    }
   ],
   "source": [
    "head(mydata,10)"
   ]
  },
  {
   "cell_type": "code",
   "execution_count": 96,
   "metadata": {},
   "outputs": [
    {
     "data": {
      "text/html": [
       "<table>\n",
       "<thead><tr><th scope=col>Casenew</th><th scope=col>INDWGT</th><th scope=col>MCZ_1</th><th scope=col>MCZ_2</th><th scope=col>MCZ_3</th><th scope=col>MCZ_4</th><th scope=col>MCZ_5</th><th scope=col>MCZ_7</th><th scope=col>MCZ_8</th><th scope=col>MCZ_9</th><th scope=col>...</th><th scope=col>RSEX</th><th scope=col>AGEXr</th><th scope=col>Martstat3r</th><th scope=col>HighEd4r</th><th scope=col>Ethnicity2r</th><th scope=col>DVILO3ar</th><th scope=col>FtPtWkr</th><th scope=col>NSECAC3</th><th scope=col>GorA</th><th scope=col>INDWGTr</th></tr></thead>\n",
       "<tbody>\n",
       "\t<tr><td>12                                                          </td><td> 20921.59                                                   </td><td> 9                                                          </td><td> 9                                                          </td><td> 7                                                          </td><td>5                                                           </td><td> 6                                                          </td><td>8                                                           </td><td> 9                                                          </td><td>10                                                          </td><td>...                                                         </td><td>Female                                                      </td><td>25 to 44                                                    </td><td>Single                                                      </td><td>Below degree level                                          </td><td>White                                                       </td><td>Economically Inactive                                       </td><td>NA                                                          </td><td>Not classified                                              </td><td>Scotland                                                    </td><td>0.4244214                                                   </td></tr>\n",
       "\t<tr><td>15                                                          </td><td> 90528.50                                                   </td><td> 8                                                          </td><td> 9                                                          </td><td> 9                                                          </td><td>2                                                           </td><td>10                                                          </td><td>8                                                           </td><td>10                                                          </td><td>NA                                                          </td><td>...                                                         </td><td>Male                                                        </td><td>45 to 54                                                    </td><td>Married/Cohabiting (includes same sex couples)/Civil Partner</td><td>Below degree level                                          </td><td>White                                                       </td><td>In Employment                                               </td><td>Full-time                                                   </td><td>Managerial and professional                                 </td><td>Yorkshire and the Humber                                    </td><td>1.8364873                                                   </td></tr>\n",
       "\t<tr><td>18                                                          </td><td> 50285.04                                                   </td><td> 7                                                          </td><td> 8                                                          </td><td> 8                                                          </td><td>0                                                           </td><td>10                                                          </td><td>8                                                           </td><td> 8                                                          </td><td>NA                                                          </td><td>...                                                         </td><td>Male                                                        </td><td>45 to 54                                                    </td><td>Married/Cohabiting (includes same sex couples)/Civil Partner</td><td>None                                                        </td><td>Other                                                       </td><td>In Employment                                               </td><td>Full-time                                                   </td><td>Routine and manual                                          </td><td>North West                                                  </td><td>1.0200968                                                   </td></tr>\n",
       "\t<tr><td>20                                                          </td><td> 40243.13                                                   </td><td> 8                                                          </td><td>10                                                          </td><td>10                                                          </td><td>0                                                           </td><td> 8                                                          </td><td>5                                                           </td><td> 6                                                          </td><td>NA                                                          </td><td>...                                                         </td><td>Female                                                      </td><td>65 to 74                                                    </td><td>Married/Cohabiting (includes same sex couples)/Civil Partner</td><td>None                                                        </td><td>White                                                       </td><td>Economically Inactive                                       </td><td>NA                                                          </td><td>Not classified                                              </td><td>East Midlands                                               </td><td>0.8163838                                                   </td></tr>\n",
       "\t<tr><td>54                                                          </td><td>125510.36                                                   </td><td> 9                                                          </td><td> 9                                                          </td><td> 8                                                          </td><td>7                                                           </td><td> 7                                                          </td><td>7                                                           </td><td> 9                                                          </td><td>NA                                                          </td><td>...                                                         </td><td>Female                                                      </td><td>45 to 54                                                    </td><td>Widowed/Divorced/Separated (includes same sex couples)      </td><td>Below degree level                                          </td><td>White                                                       </td><td>In Employment                                               </td><td>Part-time                                                   </td><td>Managerial and professional                                 </td><td>London                                                      </td><td>2.5461393                                                   </td></tr>\n",
       "\t<tr><td>54                                                          </td><td> 99109.51                                                   </td><td> 7                                                          </td><td> 9                                                          </td><td> 6                                                          </td><td>7                                                           </td><td> 8                                                          </td><td>9                                                           </td><td> 5                                                          </td><td>NA                                                          </td><td>...                                                         </td><td>Female                                                      </td><td>16 to 24                                                    </td><td>Single                                                      </td><td>Below degree level                                          </td><td>White                                                       </td><td>Economically Inactive                                       </td><td>NA                                                          </td><td>Not classified                                              </td><td>South East                                                  </td><td>2.0105641                                                   </td></tr>\n",
       "\t<tr><td>67                                                          </td><td> 42479.44                                                   </td><td> 9                                                          </td><td> 9                                                          </td><td> 8                                                          </td><td>1                                                           </td><td> 9                                                          </td><td>6                                                           </td><td> 9                                                          </td><td> 9                                                          </td><td>...                                                         </td><td>Female                                                      </td><td>25 to 44                                                    </td><td>Married/Cohabiting (includes same sex couples)/Civil Partner</td><td>Degree or equivalent                                        </td><td>White                                                       </td><td>In Employment                                               </td><td>Part-time                                                   </td><td>Intermediate                                                </td><td>South East                                                  </td><td>0.8617502                                                   </td></tr>\n",
       "\t<tr><td>89                                                          </td><td> 59994.19                                                   </td><td>10                                                          </td><td>10                                                          </td><td>10                                                          </td><td>0                                                           </td><td> 9                                                          </td><td>9                                                           </td><td>10                                                          </td><td>NA                                                          </td><td>...                                                         </td><td>Male                                                        </td><td>45 to 54                                                    </td><td>Married/Cohabiting (includes same sex couples)/Civil Partner</td><td>Below degree level                                          </td><td>White                                                       </td><td>In Employment                                               </td><td>Full-time                                                   </td><td>Intermediate                                                </td><td>East Midlands                                               </td><td>1.2170595                                                   </td></tr>\n",
       "\t<tr><td>91                                                          </td><td> 28701.99                                                   </td><td>10                                                          </td><td>10                                                          </td><td> 9                                                          </td><td>0                                                           </td><td>10                                                          </td><td>5                                                           </td><td>10                                                          </td><td>NA                                                          </td><td>...                                                         </td><td>Female                                                      </td><td>75 and over                                                 </td><td>Widowed/Divorced/Separated (includes same sex couples)      </td><td>Below degree level                                          </td><td>White                                                       </td><td>Economically Inactive                                       </td><td>NA                                                          </td><td>Not classified                                              </td><td>Yorkshire and the Humber                                    </td><td>0.5822568                                                   </td></tr>\n",
       "\t<tr><td>96                                                          </td><td> 59065.91                                                   </td><td> 7                                                          </td><td> 6                                                          </td><td> 4                                                          </td><td>9                                                           </td><td>10                                                          </td><td>7                                                           </td><td> 8                                                          </td><td>NA                                                          </td><td>...                                                         </td><td>Male                                                        </td><td>55 to 64                                                    </td><td>Married/Cohabiting (includes same sex couples)/Civil Partner</td><td>Other qualifications                                        </td><td>White                                                       </td><td>In Employment                                               </td><td>Full-time                                                   </td><td>Managerial and professional                                 </td><td>West Midlands                                               </td><td>1.1982281                                                   </td></tr>\n",
       "</tbody>\n",
       "</table>\n"
      ],
      "text/latex": [
       "\\begin{tabular}{r|lllllllllllllllllllllllll}\n",
       " Casenew & INDWGT & MCZ\\_1 & MCZ\\_2 & MCZ\\_3 & MCZ\\_4 & MCZ\\_5 & MCZ\\_7 & MCZ\\_8 & MCZ\\_9 & ... & RSEX & AGEXr & Martstat3r & HighEd4r & Ethnicity2r & DVILO3ar & FtPtWkr & NSECAC3 & GorA & INDWGTr\\\\\n",
       "\\hline\n",
       "\t 12                                                           &  20921.59                                                    &  9                                                           &  9                                                           &  7                                                           & 5                                                            &  6                                                           & 8                                                            &  9                                                           & 10                                                           & ...                                                          & Female                                                       & 25 to 44                                                     & Single                                                       & Below degree level                                           & White                                                        & Economically Inactive                                        & NA                                                           & Not classified                                               & Scotland                                                     & 0.4244214                                                   \\\\\n",
       "\t 15                                                           &  90528.50                                                    &  8                                                           &  9                                                           &  9                                                           & 2                                                            & 10                                                           & 8                                                            & 10                                                           & NA                                                           & ...                                                          & Male                                                         & 45 to 54                                                     & Married/Cohabiting (includes same sex couples)/Civil Partner & Below degree level                                           & White                                                        & In Employment                                                & Full-time                                                    & Managerial and professional                                  & Yorkshire and the Humber                                     & 1.8364873                                                   \\\\\n",
       "\t 18                                                           &  50285.04                                                    &  7                                                           &  8                                                           &  8                                                           & 0                                                            & 10                                                           & 8                                                            &  8                                                           & NA                                                           & ...                                                          & Male                                                         & 45 to 54                                                     & Married/Cohabiting (includes same sex couples)/Civil Partner & None                                                         & Other                                                        & In Employment                                                & Full-time                                                    & Routine and manual                                           & North West                                                   & 1.0200968                                                   \\\\\n",
       "\t 20                                                           &  40243.13                                                    &  8                                                           & 10                                                           & 10                                                           & 0                                                            &  8                                                           & 5                                                            &  6                                                           & NA                                                           & ...                                                          & Female                                                       & 65 to 74                                                     & Married/Cohabiting (includes same sex couples)/Civil Partner & None                                                         & White                                                        & Economically Inactive                                        & NA                                                           & Not classified                                               & East Midlands                                                & 0.8163838                                                   \\\\\n",
       "\t 54                                                           & 125510.36                                                    &  9                                                           &  9                                                           &  8                                                           & 7                                                            &  7                                                           & 7                                                            &  9                                                           & NA                                                           & ...                                                          & Female                                                       & 45 to 54                                                     & Widowed/Divorced/Separated (includes same sex couples)       & Below degree level                                           & White                                                        & In Employment                                                & Part-time                                                    & Managerial and professional                                  & London                                                       & 2.5461393                                                   \\\\\n",
       "\t 54                                                           &  99109.51                                                    &  7                                                           &  9                                                           &  6                                                           & 7                                                            &  8                                                           & 9                                                            &  5                                                           & NA                                                           & ...                                                          & Female                                                       & 16 to 24                                                     & Single                                                       & Below degree level                                           & White                                                        & Economically Inactive                                        & NA                                                           & Not classified                                               & South East                                                   & 2.0105641                                                   \\\\\n",
       "\t 67                                                           &  42479.44                                                    &  9                                                           &  9                                                           &  8                                                           & 1                                                            &  9                                                           & 6                                                            &  9                                                           &  9                                                           & ...                                                          & Female                                                       & 25 to 44                                                     & Married/Cohabiting (includes same sex couples)/Civil Partner & Degree or equivalent                                         & White                                                        & In Employment                                                & Part-time                                                    & Intermediate                                                 & South East                                                   & 0.8617502                                                   \\\\\n",
       "\t 89                                                           &  59994.19                                                    & 10                                                           & 10                                                           & 10                                                           & 0                                                            &  9                                                           & 9                                                            & 10                                                           & NA                                                           & ...                                                          & Male                                                         & 45 to 54                                                     & Married/Cohabiting (includes same sex couples)/Civil Partner & Below degree level                                           & White                                                        & In Employment                                                & Full-time                                                    & Intermediate                                                 & East Midlands                                                & 1.2170595                                                   \\\\\n",
       "\t 91                                                           &  28701.99                                                    & 10                                                           & 10                                                           &  9                                                           & 0                                                            & 10                                                           & 5                                                            & 10                                                           & NA                                                           & ...                                                          & Female                                                       & 75 and over                                                  & Widowed/Divorced/Separated (includes same sex couples)       & Below degree level                                           & White                                                        & Economically Inactive                                        & NA                                                           & Not classified                                               & Yorkshire and the Humber                                     & 0.5822568                                                   \\\\\n",
       "\t 96                                                           &  59065.91                                                    &  7                                                           &  6                                                           &  4                                                           & 9                                                            & 10                                                           & 7                                                            &  8                                                           & NA                                                           & ...                                                          & Male                                                         & 55 to 64                                                     & Married/Cohabiting (includes same sex couples)/Civil Partner & Other qualifications                                         & White                                                        & In Employment                                                & Full-time                                                    & Managerial and professional                                  & West Midlands                                                & 1.1982281                                                   \\\\\n",
       "\\end{tabular}\n"
      ],
      "text/markdown": [
       "\n",
       "Casenew | INDWGT | MCZ_1 | MCZ_2 | MCZ_3 | MCZ_4 | MCZ_5 | MCZ_7 | MCZ_8 | MCZ_9 | ... | RSEX | AGEXr | Martstat3r | HighEd4r | Ethnicity2r | DVILO3ar | FtPtWkr | NSECAC3 | GorA | INDWGTr | \n",
       "|---|---|---|---|---|---|---|---|---|---|\n",
       "| 12                                                           |  20921.59                                                    |  9                                                           |  9                                                           |  7                                                           | 5                                                            |  6                                                           | 8                                                            |  9                                                           | 10                                                           | ...                                                          | Female                                                       | 25 to 44                                                     | Single                                                       | Below degree level                                           | White                                                        | Economically Inactive                                        | NA                                                           | Not classified                                               | Scotland                                                     | 0.4244214                                                    | \n",
       "| 15                                                           |  90528.50                                                    |  8                                                           |  9                                                           |  9                                                           | 2                                                            | 10                                                           | 8                                                            | 10                                                           | NA                                                           | ...                                                          | Male                                                         | 45 to 54                                                     | Married/Cohabiting (includes same sex couples)/Civil Partner | Below degree level                                           | White                                                        | In Employment                                                | Full-time                                                    | Managerial and professional                                  | Yorkshire and the Humber                                     | 1.8364873                                                    | \n",
       "| 18                                                           |  50285.04                                                    |  7                                                           |  8                                                           |  8                                                           | 0                                                            | 10                                                           | 8                                                            |  8                                                           | NA                                                           | ...                                                          | Male                                                         | 45 to 54                                                     | Married/Cohabiting (includes same sex couples)/Civil Partner | None                                                         | Other                                                        | In Employment                                                | Full-time                                                    | Routine and manual                                           | North West                                                   | 1.0200968                                                    | \n",
       "| 20                                                           |  40243.13                                                    |  8                                                           | 10                                                           | 10                                                           | 0                                                            |  8                                                           | 5                                                            |  6                                                           | NA                                                           | ...                                                          | Female                                                       | 65 to 74                                                     | Married/Cohabiting (includes same sex couples)/Civil Partner | None                                                         | White                                                        | Economically Inactive                                        | NA                                                           | Not classified                                               | East Midlands                                                | 0.8163838                                                    | \n",
       "| 54                                                           | 125510.36                                                    |  9                                                           |  9                                                           |  8                                                           | 7                                                            |  7                                                           | 7                                                            |  9                                                           | NA                                                           | ...                                                          | Female                                                       | 45 to 54                                                     | Widowed/Divorced/Separated (includes same sex couples)       | Below degree level                                           | White                                                        | In Employment                                                | Part-time                                                    | Managerial and professional                                  | London                                                       | 2.5461393                                                    | \n",
       "| 54                                                           |  99109.51                                                    |  7                                                           |  9                                                           |  6                                                           | 7                                                            |  8                                                           | 9                                                            |  5                                                           | NA                                                           | ...                                                          | Female                                                       | 16 to 24                                                     | Single                                                       | Below degree level                                           | White                                                        | Economically Inactive                                        | NA                                                           | Not classified                                               | South East                                                   | 2.0105641                                                    | \n",
       "| 67                                                           |  42479.44                                                    |  9                                                           |  9                                                           |  8                                                           | 1                                                            |  9                                                           | 6                                                            |  9                                                           |  9                                                           | ...                                                          | Female                                                       | 25 to 44                                                     | Married/Cohabiting (includes same sex couples)/Civil Partner | Degree or equivalent                                         | White                                                        | In Employment                                                | Part-time                                                    | Intermediate                                                 | South East                                                   | 0.8617502                                                    | \n",
       "| 89                                                           |  59994.19                                                    | 10                                                           | 10                                                           | 10                                                           | 0                                                            |  9                                                           | 9                                                            | 10                                                           | NA                                                           | ...                                                          | Male                                                         | 45 to 54                                                     | Married/Cohabiting (includes same sex couples)/Civil Partner | Below degree level                                           | White                                                        | In Employment                                                | Full-time                                                    | Intermediate                                                 | East Midlands                                                | 1.2170595                                                    | \n",
       "| 91                                                           |  28701.99                                                    | 10                                                           | 10                                                           |  9                                                           | 0                                                            | 10                                                           | 5                                                            | 10                                                           | NA                                                           | ...                                                          | Female                                                       | 75 and over                                                  | Widowed/Divorced/Separated (includes same sex couples)       | Below degree level                                           | White                                                        | Economically Inactive                                        | NA                                                           | Not classified                                               | Yorkshire and the Humber                                     | 0.5822568                                                    | \n",
       "| 96                                                           |  59065.91                                                    |  7                                                           |  6                                                           |  4                                                           | 9                                                            | 10                                                           | 7                                                            |  8                                                           | NA                                                           | ...                                                          | Male                                                         | 55 to 64                                                     | Married/Cohabiting (includes same sex couples)/Civil Partner | Other qualifications                                         | White                                                        | In Employment                                                | Full-time                                                    | Managerial and professional                                  | West Midlands                                                | 1.1982281                                                    | \n",
       "\n",
       "\n"
      ],
      "text/plain": [
       "   Casenew INDWGT    MCZ_1 MCZ_2 MCZ_3 MCZ_4 MCZ_5 MCZ_7 MCZ_8 MCZ_9 ... RSEX  \n",
       "1  12       20921.59  9     9     7    5      6    8      9    10    ... Female\n",
       "2  15       90528.50  8     9     9    2     10    8     10    NA    ... Male  \n",
       "3  18       50285.04  7     8     8    0     10    8      8    NA    ... Male  \n",
       "4  20       40243.13  8    10    10    0      8    5      6    NA    ... Female\n",
       "5  54      125510.36  9     9     8    7      7    7      9    NA    ... Female\n",
       "6  54       99109.51  7     9     6    7      8    9      5    NA    ... Female\n",
       "7  67       42479.44  9     9     8    1      9    6      9     9    ... Female\n",
       "8  89       59994.19 10    10    10    0      9    9     10    NA    ... Male  \n",
       "9  91       28701.99 10    10     9    0     10    5     10    NA    ... Female\n",
       "10 96       59065.91  7     6     4    9     10    7      8    NA    ... Male  \n",
       "   AGEXr       Martstat3r                                                  \n",
       "1  25 to 44    Single                                                      \n",
       "2  45 to 54    Married/Cohabiting (includes same sex couples)/Civil Partner\n",
       "3  45 to 54    Married/Cohabiting (includes same sex couples)/Civil Partner\n",
       "4  65 to 74    Married/Cohabiting (includes same sex couples)/Civil Partner\n",
       "5  45 to 54    Widowed/Divorced/Separated (includes same sex couples)      \n",
       "6  16 to 24    Single                                                      \n",
       "7  25 to 44    Married/Cohabiting (includes same sex couples)/Civil Partner\n",
       "8  45 to 54    Married/Cohabiting (includes same sex couples)/Civil Partner\n",
       "9  75 and over Widowed/Divorced/Separated (includes same sex couples)      \n",
       "10 55 to 64    Married/Cohabiting (includes same sex couples)/Civil Partner\n",
       "   HighEd4r             Ethnicity2r DVILO3ar              FtPtWkr  \n",
       "1  Below degree level   White       Economically Inactive NA       \n",
       "2  Below degree level   White       In Employment         Full-time\n",
       "3  None                 Other       In Employment         Full-time\n",
       "4  None                 White       Economically Inactive NA       \n",
       "5  Below degree level   White       In Employment         Part-time\n",
       "6  Below degree level   White       Economically Inactive NA       \n",
       "7  Degree or equivalent White       In Employment         Part-time\n",
       "8  Below degree level   White       In Employment         Full-time\n",
       "9  Below degree level   White       Economically Inactive NA       \n",
       "10 Other qualifications White       In Employment         Full-time\n",
       "   NSECAC3                     GorA                     INDWGTr  \n",
       "1  Not classified              Scotland                 0.4244214\n",
       "2  Managerial and professional Yorkshire and the Humber 1.8364873\n",
       "3  Routine and manual          North West               1.0200968\n",
       "4  Not classified              East Midlands            0.8163838\n",
       "5  Managerial and professional London                   2.5461393\n",
       "6  Not classified              South East               2.0105641\n",
       "7  Intermediate                South East               0.8617502\n",
       "8  Intermediate                East Midlands            1.2170595\n",
       "9  Not classified              Yorkshire and the Humber 0.5822568\n",
       "10 Managerial and professional West Midlands            1.1982281"
      ]
     },
     "metadata": {},
     "output_type": "display_data"
    }
   ],
   "source": [
    "head(mydata1,10)"
   ]
  },
  {
   "cell_type": "code",
   "execution_count": 8,
   "metadata": {},
   "outputs": [
    {
     "data": {
      "text/plain": [
       "<Labelled double>: Government Office Region\n",
       "[1] 11  3  2  4  7  8\n",
       "\n",
       "Labels:\n",
       " value                    label\n",
       "     1               North East\n",
       "     2               North West\n",
       "     3 Yorkshire and the Humber\n",
       "     4            East Midlands\n",
       "     5            West Midlands\n",
       "     6          East of England\n",
       "     7                   London\n",
       "     8               South East\n",
       "     9               South West\n",
       "    10                    Wales\n",
       "    11                 Scotland"
      ]
     },
     "metadata": {},
     "output_type": "display_data"
    }
   ],
   "source": [
    "head(mydata$GorA)"
   ]
  },
  {
   "cell_type": "code",
   "execution_count": 40,
   "metadata": {},
   "outputs": [],
   "source": [
    "NorthEast <- subset(mydata, mydata$GorA == 1)\n",
    "NorthWest <- subset(mydata, mydata$GorA == 2)\n",
    "Yorkshire <- subset(mydata, mydata$GorA == 3)\n",
    "EastMidlands <- subset(mydata, mydata$GorA == 4)\n",
    "WestMidlands <- subset(mydata, mydata$GorA == 5)\n",
    "EastEngland <- subset(mydata, mydata$GorA == 6)\n",
    "London <- subset(mydata, mydata$GorA == 7)\n",
    "SouthEast <- subset(mydata, mydata$GorA == 8)\n",
    "SouthWest <- subset(mydata, mydata$GorA == 9)\n",
    "Wales <- subset(mydata, mydata$GorA == 10)\n",
    "Scotland <- subset(mydata, mydata$GorA == 11)"
   ]
  },
  {
   "cell_type": "code",
   "execution_count": 14,
   "metadata": {},
   "outputs": [
    {
     "data": {
      "text/plain": [
       "   Min. 1st Qu.  Median    Mean 3rd Qu.    Max. \n",
       "  0.000   6.000   8.000   7.177   9.000  10.000 "
      ]
     },
     "metadata": {},
     "output_type": "display_data"
    }
   ],
   "source": [
    "summary(SoutEast$MCZ_10)"
   ]
  },
  {
   "cell_type": "code",
   "execution_count": 38,
   "metadata": {},
   "outputs": [
    {
     "data": {
      "text/html": [
       "<table>\n",
       "<thead><tr><th></th><th scope=col>vars</th><th scope=col>n</th><th scope=col>mean</th><th scope=col>sd</th><th scope=col>median</th><th scope=col>trimmed</th><th scope=col>mad</th><th scope=col>min</th><th scope=col>max</th><th scope=col>range</th><th scope=col>skew</th><th scope=col>kurtosis</th><th scope=col>se</th></tr></thead>\n",
       "<tbody>\n",
       "\t<tr><th scope=row>X1</th><td>1        </td><td>300      </td><td>7.176667 </td><td>2.354556 </td><td>8        </td><td>7.479167 </td><td>1.4826   </td><td>0        </td><td>10       </td><td>10       </td><td>-1.067708</td><td>0.7328516</td><td>0.1359404</td></tr>\n",
       "</tbody>\n",
       "</table>\n"
      ],
      "text/latex": [
       "\\begin{tabular}{r|lllllllllllll}\n",
       "  & vars & n & mean & sd & median & trimmed & mad & min & max & range & skew & kurtosis & se\\\\\n",
       "\\hline\n",
       "\tX1 & 1         & 300       & 7.176667  & 2.354556  & 8         & 7.479167  & 1.4826    & 0         & 10        & 10        & -1.067708 & 0.7328516 & 0.1359404\\\\\n",
       "\\end{tabular}\n"
      ],
      "text/markdown": [
       "\n",
       "| <!--/--> | vars | n | mean | sd | median | trimmed | mad | min | max | range | skew | kurtosis | se | \n",
       "|---|\n",
       "| X1 | 1         | 300       | 7.176667  | 2.354556  | 8         | 7.479167  | 1.4826    | 0         | 10        | 10        | -1.067708 | 0.7328516 | 0.1359404 | \n",
       "\n",
       "\n"
      ],
      "text/plain": [
       "   vars n   mean     sd       median trimmed  mad    min max range skew     \n",
       "X1 1    300 7.176667 2.354556 8      7.479167 1.4826 0   10  10    -1.067708\n",
       "   kurtosis  se       \n",
       "X1 0.7328516 0.1359404"
      ]
     },
     "metadata": {},
     "output_type": "display_data"
    }
   ],
   "source": [
    "library(psych) # To use describe function\n",
    "describe(SoutEast$MCZ_10)"
   ]
  },
  {
   "cell_type": "code",
   "execution_count": 34,
   "metadata": {},
   "outputs": [],
   "source": [
    "getmode <- function(x){\n",
    "names(table(x))[table(x)==max(table(x))]\n",
    "    }"
   ]
  },
  {
   "cell_type": "code",
   "execution_count": 56,
   "metadata": {},
   "outputs": [],
   "source": [
    "summaries <- function(data){\n",
    "    print(describe(data))\n",
    "    cat(\"The mode : \", getmode(data))\n",
    "}"
   ]
  },
  {
   "cell_type": "code",
   "execution_count": 68,
   "metadata": {},
   "outputs": [
    {
     "name": "stdout",
     "output_type": "stream",
     "text": [
      "   vars   n mean   sd median trimmed  mad min max range  skew kurtosis   se\n",
      "X1    1 300 7.18 2.35      8    7.48 1.48   0  10    10 -1.07     0.73 0.14\n",
      "The mode :  8"
     ]
    }
   ],
   "source": [
    "summaries(SouthEast$MCZ_10)"
   ]
  },
  {
   "cell_type": "code",
   "execution_count": 71,
   "metadata": {},
   "outputs": [
    {
     "data": {
      "text/plain": [
       "<Labelled double>: Grouped Age\n",
       "  [1] 1 2 6 3 2 5 2 5 2 6 2 4 6 2 5 5 2 6 4 6 6 3 2 2 4 4 5 4 2 2 3 1 5 4 1 2 3\n",
       " [38] 4 3 6 2 1 2 2 5 2 6 3 2 6 4 4 5 4 5 2 3 4 6 6 4 3 2 4 5 3 5 2 2 2 4 2 5 2\n",
       " [75] 2 4 5 5 2 2 2 4 2 2 4 5 3 5 2 1 1 1 4 3 2 1 2 4 4 2 5 2 5 2 4 6 5 5 6 3 2\n",
       "[112] 2 5 5 1 3 2 2 3 2 1 4 4 4 2 5 2 2 3 3 4 1 6 2 2 4 4 4 6 2 4 2 5 2 3 2 2 1\n",
       "[149] 5 6 4 4 3 2 1 2 4 6 4 5 4 1 5 3 2 4 6 2 6 6 2 2 4 2 3 2 2 5 1 3 4 6 2 2 4\n",
       "[186] 2 4 2 6 4 2 5 3 6 2 4 2 2 4 2 6 2 1 2 6 3 3 5 6 6 2 2 2 1 2 5 3 2 2 4 2 3\n",
       "[223] 2 5 6 6 2 4 2 2 5 3 3 6 6 2 2 3 3 2 2 2 6 6 5 4 4 6 3 2 2 5 2 2 5 3 6 4 4\n",
       "[260] 5 6 6 3 2 3 2 6 3 4 5 1 3 2 4 5 2 2 1 4 6 3 4 5 5 5 3 3 5 6 5 1 2 4 3 2 6\n",
       "[297] 5 5 3 3\n",
       "\n",
       "Labels:\n",
       " value       label\n",
       "     1    16 to 24\n",
       "     2    25 to 44\n",
       "     3    45 to 54\n",
       "     4    55 to 64\n",
       "     5    65 to 74\n",
       "     6 75 and over\n",
       "    98     Refusal\n",
       "    99  Don't Know"
      ]
     },
     "metadata": {},
     "output_type": "display_data"
    }
   ],
   "source": [
    "SouthEast$AGEXr"
   ]
  },
  {
   "cell_type": "code",
   "execution_count": 74,
   "metadata": {},
   "outputs": [],
   "source": [
    "SouthE25to44 <- subset(SouthEast, SouthEast$AGEXr == 2)"
   ]
  },
  {
   "cell_type": "code",
   "execution_count": 88,
   "metadata": {},
   "outputs": [
    {
     "data": {
      "text/html": [
       "25"
      ],
      "text/latex": [
       "25"
      ],
      "text/markdown": [
       "25"
      ],
      "text/plain": [
       "[1] 25"
      ]
     },
     "metadata": {},
     "output_type": "display_data"
    }
   ],
   "source": [
    "length(SouthE25to44)"
   ]
  },
  {
   "cell_type": "code",
   "execution_count": 89,
   "metadata": {},
   "outputs": [
    {
     "data": {
      "text/html": [
       "<strong>2:</strong> 0.08"
      ],
      "text/latex": [
       "\\textbf{2:} 0.08"
      ],
      "text/markdown": [
       "**2:** 0.08"
      ],
      "text/plain": [
       "   2 \n",
       "0.08 "
      ]
     },
     "metadata": {},
     "output_type": "display_data"
    }
   ],
   "source": [
    "count <- table(SouthE25to44$DVILO3ar)\n",
    "count[names(count)==2]/length(SouthE25to44)"
   ]
  },
  {
   "cell_type": "code",
   "execution_count": 100,
   "metadata": {},
   "outputs": [
    {
     "name": "stderr",
     "output_type": "stream",
     "text": [
      "Installing package into 'C:/Users/Ismail/Documents/R/win-library/3.5'\n",
      "(as 'lib' is unspecified)\n"
     ]
    },
    {
     "name": "stdout",
     "output_type": "stream",
     "text": [
      "package 'descr' successfully unpacked and MD5 sums checked\n",
      "\n",
      "The downloaded binary packages are in\n",
      "\tC:\\Users\\Ismail\\AppData\\Local\\Temp\\RtmpCc3wgH\\downloaded_packages\n"
     ]
    }
   ],
   "source": [
    "install.packages(\"descr\", repos = \"https://cran.us.r-project.org\")"
   ]
  },
  {
   "cell_type": "code",
   "execution_count": 101,
   "metadata": {},
   "outputs": [
    {
     "name": "stderr",
     "output_type": "stream",
     "text": [
      "Warning message:\n",
      "\"package 'descr' was built under R version 3.5.3\""
     ]
    }
   ],
   "source": [
    "library(descr)"
   ]
  },
  {
   "cell_type": "code",
   "execution_count": 110,
   "metadata": {
    "collapsed": true
   },
   "outputs": [
    {
     "data": {
      "text/plain": [
       "<Labelled double>: How is your health in general?\n",
       "   [1]  2  2  2  3  1  2  2  1  4  2  3  3  1  2  2  3  3  3  1  2  2  2  4  1\n",
       "  [25]  1  2  2  2  1  1  1  2  3  1  2  2  5  3  1  4  2  1  2  3  3  1  2  2\n",
       "  [49]  1  1  1  2  1  3  1  4  1  3  1  1  1  2  1  3  1  2  3  1  3  2  4  2\n",
       "  [73]  1  1  2  1  2  3  2  3  3  2  2  2  1  2  2  1  1  2  2  2  2  2  1  5\n",
       "  [97]  1  2  2  1  3  1  2  3  4  1  3  2  4  3  2  2  2  2  2  2  3  1  2  2\n",
       " [121]  3  1  3  1  2  3  1  2  1  1  1  1  3  1  1  1  2  5  2  2  2  2  3  2\n",
       " [145]  2  1  2  4  2  3  2  2  1  1  2  2  2  2  4  3  1  2  2  3  1  2  1  2\n",
       " [169]  1  3  2  1  1  1  1  3  3  1  2  1  1  1  3  2  1  3  3  3  2  2  1  1\n",
       " [193]  1  3  2  1  1  1  1  1  3  1  1  4  1  1  1  2  3  2  3  4  1  2  1  3\n",
       " [217]  2  1  2  2  3  2  1  3  2  2  1  1  2  2  3  2  1  3  2  1  2  1  4  3\n",
       " [241]  1  1  1  1  2  1  1  1  3  1  2  3  1  1  2  1  2  1  1  1  1  1  1  1\n",
       " [265]  1  2  2  2  3  1  3  2  2  1  2  2  2  2  1  2  4  2  2  1  1  1  2  2\n",
       " [289]  5  2  2  1  3  3  3  1  3  1  2  4  3  4  2  1  2  4  2  1  1  3  1  1\n",
       " [313]  2  1  1  2  1  2  2  1  1  2  2  1  4  2  2  1  2  1  2  1  1  2  2  4\n",
       " [337]  2  3  1  1  4  2  2  3  2  2  1  2  2  4  1  1  3  3  3  2  1  1  2  4\n",
       " [361]  1  3  2  2  3  2  2  3  5  1  2  1  1  1  2  4  3  3  3  1  1  4  2  1\n",
       " [385]  2  2  2  1  1  2  1  3  2  5  2  2  3  2  2  4  2  1  4  1  3  1  3  1\n",
       " [409]  3  2  1  2  1  2  2  1  2  2  2  2  1  1  2  1  1  2  3  1  2  3  1  1\n",
       " [433]  1  1  1  1  3  3  1  1  2  1  1  1  1  4  2  2  3  1  1  2  3  2  1  1\n",
       " [457]  2  4  1  1  4  2  1  2  1  1  3  5  1  1  2  1  3  1  3  3  1  1  1  1\n",
       " [481]  3  2  1  2  3  3  1  4  2  2  1  2  2  1  2  2  1  2  1  1  1  3  1  2\n",
       " [505]  1  2  2  2  1  3  1  5  2  1  2  3  1  1  1  1  3  1  2  2  2  1  1  2\n",
       " [529]  2  2  2 99  3  1  2  1  2  2  1  1  2  2  1  1  1  2  2  1  2  1  2  1\n",
       " [553]  3  2  3  2  1  1  1  1  4  2  1  1  3  2  2  1  3  4  3  1  1  1  2  2\n",
       " [577]  2  3  2  2  3  2  3  2  3  2  3  2  1  2  2  2  1  2  3  1  2  1  1  2\n",
       " [601]  2  1  2  1  2  2  3  2  2  2  1  4  1  4  2  2  2  4  1  5  2  2  1  1\n",
       " [625]  2  2  1  1  2  1  2  4  4  1  1  2  2  1  1  1  2  4  2  1  3  3  2  2\n",
       " [649]  2  1  3  1  2  2  1  2  4  2  1  2  2  4  1  1  1  3  2  1  2  2  1  2\n",
       " [673]  1  3  2  2  3  2  3  3  3  2  1  1  2  1  3  1  1  1  1  1  2  2  2  2\n",
       " [697]  1  2  3  1  2  3  1  3  1  2  3  2  1  2  2  4  1  2  3  4  1  1  2  2\n",
       " [721]  1  1  3  1  1  1  2  3  1  2  2  1  2  2  3  2  2  2  1  2  2  2  2  2\n",
       " [745]  1  3  1  3  2  1  1  2  3  3  2  1  1  5  3  1  2  1  1  2  1  2  2  1\n",
       " [769]  2  3  1  2  1  1  2  1  2  1  2  1  1  2  3  3  2  3  1  1  3  4  2  1\n",
       " [793]  1  1  2  1  1  2  2  3  2  2  1  1  3  5  1  2  2  1  2  1  2  2  1  3\n",
       " [817]  2  3  3  3  2  1  3  2  1  3  1  4  3  4  2  1  2  2  2  2  1  1  2  2\n",
       " [841]  2  1  3  2  1  1  2  4  3  1  2  2  2  2  1  1  2  3  3  1  1  3  3  1\n",
       " [865]  1  3  2  1  1  1  2  2  1  1  3  1  2  3  3  1  2  1  2  2  2  2  1  2\n",
       " [889]  1  4  1  1  1  1  2  2  1  2  1  3  3  2  3  2  2  2  1  2  2  1  2  3\n",
       " [913]  1  2  2  1  3  1  2  2  5  3  2  2  3  1  4  1  1  4  1  1  2  1  1  3\n",
       " [937]  1  1  2  3  1  1  1  3  1  3  2  2  2  2  4  1  4  1  2  2  1  1  4  2\n",
       " [961]  4  4  1  2  1  1  4  1  3  1  2  1  1  2  2  3  1  1  2  2  1  4  3  2\n",
       " [985]  1  2  1  1  2  2  2  2  1  2  2  2  2  2  2  1  1  3  2  2  4  3  2  2\n",
       "[1009]  3  2  1  1  2  5  1  2  2  2  3  2  2  1  2  2  3  1  3  1  1  2  2  3\n",
       "[1033]  1  4  3  2  2  3  1  2  1  2  1  4  2  2  2  2  2  2  3  1  2  2  3  3\n",
       "[1057]  3  2  1  2  1  1  1  2  2  1  2  1  2  2  4  2  3  2  3  5  1  5  2  2\n",
       "[1081]  4  2  3  1  1  2  1  4  2  2  4  1  3  3  2  3  2  3  2  1  2  1  4  3\n",
       "[1105]  2  2  1  4  1  3  2  2  2  1  4  4  1  1  4  2  5  1  1  1  1  3  3  1\n",
       "[1129]  2  4  3  1  2  1  2  3  1  1  1  2  3  1  2  1  1  2  2  3  2  2  2  3\n",
       "[1153]  2  1  3  2  1  1  2  3  1  3  2  1  2  2  1  2  1  2  1  3  1  2  1  3\n",
       "[1177]  2  3  2  2  3  3  2  1  2  1  1  1  1  3  2  2  1  2  1  2  2  3  2  2\n",
       "[1201]  3  3  2  3  3  2  2  2  2  1  2  2  2  1  3  1  2  2  1  3  2  1  2  2\n",
       "[1225]  1  3  1  2  3  2  3  4  1  1  1  4  1  2  1  3  1  2  3  1  5  1  1  1\n",
       "[1249]  1  2  5  1  2  3  3  1  2  2  1  1  2  1  1  2  2  1  2  1  2  1  3  1\n",
       "[1273]  1  1  1  1  1  1  4  3  2  2  2  1  1  2  1  2  2  3  2  1  2  2  2  5\n",
       "[1297]  2  4  2  3  1  1  3  1  1  3  1  1  4  1  2  1  3  1  2  1  4  1  2  1\n",
       "[1321]  4  1  2  2  2  3  2  1  1  2  3  3  5  2  1  2  2  3  4  1  3  2  4  1\n",
       "[1345]  1  4  2  2  4  2  3  2  1  3  3  2  1  1  3  2  2  2  1  2  5  1  2  1\n",
       "[1369]  2  2  1  1 98  3  1  4  3  2  2  2  3  2  2  2  2  3  3  2  1  3  1  2\n",
       "[1393]  1  2  2  1  2  1  2  3  2  1  1  2  2  3  1  2  2  2  2  2  3  3  1  1\n",
       "[1417]  3  2  1  2  1  4  2  3  3  5  5  1  1  1  5  1  1  1  1  2  1  2  3  2\n",
       "[1441]  2  2  1  1  2  3  2  1  1  1  2  2  1  2  1  1  4  2  2  3  3  3  1  1\n",
       "[1465]  1  1  2  1  1  1  2  2  2  3  2  2  1  2  1  2  1  3  3  5  1  3  3  2\n",
       "[1489]  2  1  1  1  1  2  2  1  2  2  2  3  1  1  1  2  2  2  2  1  3  1  2  2\n",
       "[1513]  2  2  3  2  2  3  2  3  2  2  1  1  2  1  2  2  2  1  1  2  3  1  1  3\n",
       "[1537]  2  3  1  1  1  2  1  1  2  4  2  3  2  1  1  2  3  1  4  1  1  2  2  2\n",
       "[1561]  2  3  2  2  4  2  2  1  3  1  1  3  2  1  1  1  3  2  1  2  1  1  1  3\n",
       "[1585]  2  2  1  2  2  2  1  1  2  1  3  2  1  2  3  2  2  4  1  2  1  2  2  2\n",
       "[1609]  3  2  2  2  4  1  2  1  2  3  1  1  3 98  2  3  1  3  2  1  5  3  1  3\n",
       "[1633]  3  4  2  2  2  1  2  2  3  1  1  2  3  2  1  1  3  2  2  2  2  2  2  3\n",
       "[1657]  3  1  2  3  3  4  1  1  2  2  2  1  1  1  2  3  1  1  2  2  1  1  1  2\n",
       "[1681]  2  2  5  3  2  3  1  2  5  1  3  2  2  1  3  4  2  2  2  1  2  1  3  1\n",
       "[1705]  2  2  4  1  2  2  3  1  1  1  2  3  4  2  3  2  1  2  2  4  2  2  1  3\n",
       "[1729]  1  3  1  5  3  4  1  1  1  3  2  2  2  2  2  2  1  1  2  1  2  1  2  1\n",
       "[1753]  1  1  3  4  1  2  2  2  1  5  2  3  2  1  3  2  1  3  1  3  3  1  1  2\n",
       "[1777]  1  3  3  3  2  1  1  1 98  1  1  3  2  3  3  2  1  1  4  1  1  2  1  3\n",
       "[1801]  1  4  5  2  2  2  1  2  2  3  2  2  3  2  1  1  2  1  3  2  1  3  1  2\n",
       "[1825]  2  3  2  1  1  3  1  1  1  2  2  1  1  1  2  2  2  2  1  1  3  3  2  2\n",
       "[1849]  1  2  1  3  1  2  1  2  5  4  2  2  1  1  1  1  2  2  2  1  1  2  1  1\n",
       "[1873]  4  2  1  1  1  1  1  1  4  1  3  2  1  5  2  2  2  1  3  1  1  2  3  2\n",
       "[1897]  1  1  2  1  1  3  1  2  2  1  1  1  3  1  1  2  2  3  1  1  3  2  2  2\n",
       "[1921]  2  2  2  2  1  2  3  2  2  4  2  2  1  2  2  3  2  4  2  1  2  2  1  3\n",
       "[1945]  1  2  2  5  3  3  2  2  3  1  2  2  3  5  2  1  1  1  1  1  1  3  1  2\n",
       "[1969]  3  1  1  3  1  1  2  2  2  2  3  1  1  2  1  1  3  1  2  3  3  1  3  2\n",
       "[1993]  5  1  4  1  1  3  3  2  4  3  5  3  2  2  2  2  2  3  3  1  1  2  3  4\n",
       "[2017]  2  1  2  1  3  1  1  4  1  2  1  2  2  3  4  1  1  2  3  3  1  2  2  1\n",
       "[2041]  2  1  3  1  2  3  1  3\n",
       "\n",
       "Labels:\n",
       " value     label\n",
       "     1 Very good\n",
       "     2      Good\n",
       "     3      Fair\n",
       "     4       Bad\n",
       "     5  Very bad\n",
       "    98   Refusal\n",
       "    99 Dont know"
      ]
     },
     "metadata": {},
     "output_type": "display_data"
    }
   ],
   "source": [
    "mydata$QHealthr"
   ]
  },
  {
   "cell_type": "code",
   "execution_count": 112,
   "metadata": {
    "collapsed": true
   },
   "outputs": [
    {
     "data": {
      "text/plain": [
       "<Labelled double>: Ethnicity White/Other (recoded)\n",
       "   [1]  1  1  2  1  1  1  1  1  1  1  1  1  1  1  2  1  1  1  1  1  1  1  1  1\n",
       "  [25]  1  1  1  1  1  1  1  1  1  1  2  1  1  1  2  2  1  1  2  1  1  1  1  1\n",
       "  [49]  1  1  1  1  1  1  1  1  1  1  1  1  1  1  1  1  1  1  1  1  1  2  1  1\n",
       "  [73]  1  1  1  1  1  1  1  1  1  1  1  1  1  1  1  1  1  1  1 99  1  1  2  1\n",
       "  [97]  1  1  1  1  1  1  1  1  1  1  1  1  1  2  1  1  1  1  1  2  1  1  2  1\n",
       " [121]  1  1  1  1  1  1  2  1  1  2  2  1  1  1  1  2  1  1  1  1  1  1  1  1\n",
       " [145]  1  1  1  1  1  1  2  1  1  1  1  1  2  1  1  2  1  1  1  1  1  1  1  1\n",
       " [169]  1  1  1  1  1  1  1  1  1  1  1  1  1  2  1  1  1  2  2  1  1  1  2  1\n",
       " [193]  1  1  1  1  1  1  1  1  1  1  1  1  1  1  1  1  1  1  2  2  2  1  1  1\n",
       " [217]  1  1  2  1  1  1  1  1  1  1  1  1  1  1  1  1  1  1  1  1  1  2  1  1\n",
       " [241]  1  1  1  1  2  1  1  1  1  1  1  1  1  1  1  2  1  1  1  1  1  1  1  1\n",
       " [265]  2  1  1  1  1  1  1  1  1  1  1  1  1  1  1  1  1  1  1  1  1  1  1  1\n",
       " [289]  1  1  1  1  1  1  1  1  1  1  2  1  1  1  1  1  2  2  1  1  1  1  1  1\n",
       " [313]  1  1  1  1  2  2  2  1  1  1  1  1  1  1  1  2  1  1  1  1  1  1  1  1\n",
       " [337]  1  1  1  1  1  1  1  1  2  1  1  1  1  1  1  2  1  1  1  2  1  1  1  1\n",
       " [361]  1  1  1  1  1  1  1  1  1  1  2  1  1  1  1  1  1  1  1  1  1  1  1  1\n",
       " [385]  1  1  1  1  1  1  1  2  1  1  1  1  1  1  1  1  1  1  2  1  1  1  1  1\n",
       " [409]  1  1  1  1  1  1  1  1  1  1  1  1  1  1  2  1  1  1  1  1  1  1  1  1\n",
       " [433]  1  1  1  2  1  1  1  1  1  1  1  1  1  1  1  2  1  1  1  1  1  1  1  1\n",
       " [457]  1  1  1  1  1  1  1  1  1  1  1  1  1  1  1  1  1  1  1  1  1  2  1  1\n",
       " [481]  1  1  1  1  1  2  1  1  1  1  1  1  1  2  1  1  1  1  1  1  2  1  1  1\n",
       " [505]  1  1  1  1  1  1  1  1  1  1  1  1  1  1  1  1  1  1  1  1  1  1  1  1\n",
       " [529]  2  1  1  1  1  2  2  1  1  1  1  1  1  1  1  2  1  1  1  1  1  1  1  1\n",
       " [553]  1  1  1  1  1  1  1  1  1  1  2  1  1  1  1  1  1  1  1  1  1  1  2  1\n",
       " [577]  1  1  2  1  1  1  1  1  1  1  1  1  1  1  1  1  1  1  1  1  1  2  1  1\n",
       " [601]  1  1  1  1  1  1  1  1  1  1  1  2  1  1  1  1  1  1  1  2  1  1  2  1\n",
       " [625]  2  1  1  1  1  1  2  1  1  1  1  1  1  1  1  1  1  1  1  2  1  1  1  2\n",
       " [649]  2  1  1  1  1  1  1  1  1  2  1  1  1  1  1  2  1  1  1  1  1  1  1  1\n",
       " [673]  2  1  1  1  1  1  1  1  1  1  1  1  1  1  1  1  2  2  1  1  1  1  1  1\n",
       " [697]  1  1  1  1  1  1  1  1  1  1  1  1  2  1  1  1  1  1  1  1  1  1  1  1\n",
       " [721]  1  1  1  2  1  1  1  1  1  1  2  1  1  1  1  1  1  1  1  1  1  1  1  1\n",
       " [745]  1  1  1  1  1  1  1  1  1  1  2  1  1  1  1  1  1  2  2  1  1  1  1  1\n",
       " [769]  1  1  1  1  1  1  1  1  1  1  1  1  1  1  1  1  1  1  1  1  1  1  1  1\n",
       " [793]  1  1  1  1  1  1  1  1  1  1  2  1  1  1  1  1  1  1  1  1  1  1  1  1\n",
       " [817]  1  1  1  1  1  1  1  2  1  1  1  1  1  1  1  1  1  1  1  1  1  1  2  1\n",
       " [841]  1  1  1  1  1  1  1  1  1  1  1  1  1  1  1  1  1  1  1  1  1  1  1  1\n",
       " [865]  1  1  1  1  1  1  1  1  1  2  1  1  1  1  1  1  1  1  1  1  1  1  1  1\n",
       " [889]  1  1  1  1  1  1  1  1  1  1  1  1  1  1  1  1  1  1  1  1  2  1  1  1\n",
       " [913]  1  1  1  2  1  1  1  1  1  1  1  1  1  2  1  1  1  1  1  1  1  2  2  1\n",
       " [937]  1  1  1  1  1  1  1  1  1  1  1  1  1  1  1  2  1  1  1  1  1  1  1  1\n",
       " [961]  1  1  1  1  1  1  1  1  1  1  1  1  1  2  1  1  2  1  2  1  1  1  2  1\n",
       " [985]  1  1  1  1  1  1  1  1  1  1  2  1  1  1  1  2  1  1  1  1  1  1  1  1\n",
       "[1009]  1  1  1  1  1  1  1  1  1  2  1  1  1  1  1  1  1  1  1  1  2  1  1  1\n",
       "[1033]  1  1  1  1  1  1  1  1  1  1  1  1  1  1  1  1  1  1  1  1  1  1  1  1\n",
       "[1057]  1  1  1  1  1  1  2  1  1  1  1  1  1  2  1  1  1  1  1  1  1  1  1  1\n",
       "[1081]  1  1  1  1  1  2  1  1  2  1  1  1  1  1  2  1  1  1  1  2  2  1  1  1\n",
       "[1105]  1  1  1  1  1  1  1  1  2  1  1  1  1  1  1  1  1  1  1  1  1  1  1  1\n",
       "[1129]  1  1  1  1  1  2  1  2  1  1  1  1  1  1  1  1  2  2  2  1  1  1  1  2\n",
       "[1153]  1  1  2  1  1  1  1  1  1  1  2  1  2  1  1  1  1  1  1  1  1  1  1  1\n",
       "[1177]  1  1  1  1  1  1  1  1  2  1  1  1  2  1  1  2  1  1  1  1  1  1  1  1\n",
       "[1201]  1  1  2  1  1  1  1  2  1  1  1  1  1  1  1  1  1  1  1  1  1  1  1  1\n",
       "[1225]  1  1  1  1  1  1  1  1  1  2  1  1  1  1  2  1  1  1  2  1  1  1  1  1\n",
       "[1249]  1  1  2  1  1  2  1  1  1  1  1  2  1  1  1  1  1  1  1  2  1  1  1  1\n",
       "[1273]  1  2  2  1  2  1  1  1  1  1  1  1  1  1  1  1  1  1  1  1  1  1  1  1\n",
       "[1297]  1  1  1  2  1  1  1  1  1  1  1  1  1  1  1  1  1  1  1  1  1  1  1  1\n",
       "[1321]  1  1  1  1  2  1  1  1  1  2  1  1  1  1  1  1  1  2  1  1  1  1  1  1\n",
       "[1345]  1  1  2  1  1  1  1  1  2  1  1  1  1  1  1  1  1  1  1  1  1  1  1  1\n",
       "[1369]  1  1  1  2  2  1  2  1  1  1  1  1  1  1  1  1  2  1  1  1  1  1  1  1\n",
       "[1393]  1  1  1  1  1  1  1  1  1  1  1  1  1  1  1  1  1  1  2  1  1  1  1  1\n",
       "[1417]  1  1  1  1  1  1  2  1  1  1  1  1  1  1  1  1  1  1  2  1  1  1  1  1\n",
       "[1441]  1  2  1  1  2  1  1  1  1  1  1  1  1  1  1  1  1  2  1  1  1  1  1  2\n",
       "[1465]  1  1  1  1  1  1  2  1  1  1  2  1  1  1  1  1  2  1  2  2  1  1  1  1\n",
       "[1489]  1  1  1  1  1  2  1  1  1  1  1  1  1  2  1  1  1  2  1  1  1  1  1  2\n",
       "[1513]  1  1  1  1  2  1  2  1  1  1  1  1  1  1  1  1  1  1  1  1  1  1  1  1\n",
       "[1537]  2  1  1  1  1  1  1  1  1  1  1  1  1  1  1  1  2  1  1  1  1  1  1  1\n",
       "[1561]  1  1  1  1  1  1  1  1  1  1  1  1  1  1  1  1  1  1  1  1  2  1  1  1\n",
       "[1585]  1  1  2  1  1  1  1  1  1  1  1  1  1  1  1  2  1  1  1  1  1  1  1  1\n",
       "[1609]  1  1  1  1  1  1  2  1  1  1  1  1  1  2  1  1  1  1  1  1  1  1  1  1\n",
       "[1633]  1  1  1  1  1  1  1  1  1  1  1  1  1  1  2  1  1  1  1  1  1  1  1  1\n",
       "[1657]  1  1  1  1  1  1  2  1  1  1  2  1  1  2  1  1  1  1  1  2  1  1  1  1\n",
       "[1681]  2  1  1  1  1  1  1  2  1  1  1  1  1  2  1  1  2  1  1  1  1  1  1  1\n",
       "[1705]  2  1  1  1  1  1  2  1  1  1  1  1  1  1  1  1  1  1  1  1  1  1  1  1\n",
       "[1729]  1  1  1  1  1  1  1  1  1  1  1  2  1  1  1  1  1  1  1  2  2  1  1  2\n",
       "[1753]  1  1  1  1  1  1  1  1  1  1  2  2  1  2  1  1  1  1  1  1  1  1  1  1\n",
       "[1777]  1  1  1  1  1  1  2  1  1  2  1  1  1  1  1  1  1  1  1  1  1  1  1  1\n",
       "[1801]  1  1  1  2  1  1  1  1  1  1  1  1  1  1  1  1  1  1  1  1  1  1  1  1\n",
       "[1825]  1  2  1  1  1  2  1  1  1  1  1  1  2  1  1  1  2  1  1  2  1  1  2  1\n",
       "[1849]  1  1  1  1  1  1  2  2  1  1  1  1  1  1  1  1  1  2  1  1  2  1  1  1\n",
       "[1873]  1  1  1  1  1  1  1  2  1  1  1  1  1  1  1  1  1  1  1  1  2  1  1  1\n",
       "[1897]  1  1  1  1  1  1  2  1  1  2  1  1  2  1  1  1  1  1  1  1  1  1  1  1\n",
       "[1921]  1  1  1  1  1  1  1  1  1  1  1  1  1  1  1  1  1  1  1  1  1  1  2  1\n",
       "[1945]  1  1  1  1  1  1  1  1  1  1  2  1  1  2  1  1  1  1  1  1  2  1  1  1\n",
       "[1969]  1  1  1  1  1  1  1  1  2  1  1  1  1  1  1  1  1  1  1  1  1  2  1  1\n",
       "[1993]  1  1  1  1  1  2  1  2  1  1  1  1  1  1  1  1  1  1  1  1  2  1  2  1\n",
       "[2017]  1  1  1  1  1  1  1  1  1  1  2  2  1  1  2  1  1  1  1  1  1  1  1  1\n",
       "[2041]  1  1  1  1  1  1  1  1\n",
       "\n",
       "Labels:\n",
       " value     label\n",
       "     1     White\n",
       "     2     Other\n",
       "    98   Refusal\n",
       "    99 Dont know"
      ]
     },
     "metadata": {},
     "output_type": "display_data"
    }
   ],
   "source": [
    "mydata$Ethnicity2r"
   ]
  },
  {
   "cell_type": "code",
   "execution_count": 122,
   "metadata": {},
   "outputs": [
    {
     "name": "stderr",
     "output_type": "stream",
     "text": [
      "Warning message in chisq.test(tab, correct = FALSE, ...):\n",
      "\"Chi-squared approximation may be incorrect\""
     ]
    }
   ],
   "source": [
    "crosstabulation <- CrossTable(mydata$Ethnicity2r, mydata$QHealthr)"
   ]
  },
  {
   "cell_type": "code",
   "execution_count": 123,
   "metadata": {},
   "outputs": [
    {
     "data": {
      "text/html": [
       "<ol class=list-inline>\n",
       "\t<li>'tab'</li>\n",
       "\t<li>'prop.row'</li>\n",
       "\t<li>'prop.col'</li>\n",
       "\t<li>'prop.tbl'</li>\n",
       "\t<li>'gt'</li>\n",
       "\t<li>'rs'</li>\n",
       "\t<li>'cs'</li>\n",
       "\t<li>'total.n'</li>\n",
       "\t<li>'chisq'</li>\n",
       "\t<li>'CST'</li>\n",
       "\t<li>'chisq.corr'</li>\n",
       "\t<li>'fisher.ts'</li>\n",
       "\t<li>'fisher.lt'</li>\n",
       "\t<li>'fisher.gt'</li>\n",
       "\t<li>'print.mcnemar'</li>\n",
       "\t<li>'mcnemar'</li>\n",
       "\t<li>'mcnemar.corr'</li>\n",
       "\t<li>'asr'</li>\n",
       "\t<li>'RowData'</li>\n",
       "\t<li>'ColData'</li>\n",
       "\t<li>'digits'</li>\n",
       "\t<li>'max.width'</li>\n",
       "\t<li>'vector.x'</li>\n",
       "\t<li>'expected'</li>\n",
       "\t<li>'prop.chisq'</li>\n",
       "\t<li>'resid'</li>\n",
       "\t<li>'sresid'</li>\n",
       "\t<li>'asresid'</li>\n",
       "\t<li>'format'</li>\n",
       "\t<li>'cell.layout'</li>\n",
       "\t<li>'row.labels'</li>\n",
       "\t<li>'percent'</li>\n",
       "\t<li>'total.r'</li>\n",
       "\t<li>'total.c'</li>\n",
       "\t<li>'t'</li>\n",
       "</ol>\n"
      ],
      "text/latex": [
       "\\begin{enumerate*}\n",
       "\\item 'tab'\n",
       "\\item 'prop.row'\n",
       "\\item 'prop.col'\n",
       "\\item 'prop.tbl'\n",
       "\\item 'gt'\n",
       "\\item 'rs'\n",
       "\\item 'cs'\n",
       "\\item 'total.n'\n",
       "\\item 'chisq'\n",
       "\\item 'CST'\n",
       "\\item 'chisq.corr'\n",
       "\\item 'fisher.ts'\n",
       "\\item 'fisher.lt'\n",
       "\\item 'fisher.gt'\n",
       "\\item 'print.mcnemar'\n",
       "\\item 'mcnemar'\n",
       "\\item 'mcnemar.corr'\n",
       "\\item 'asr'\n",
       "\\item 'RowData'\n",
       "\\item 'ColData'\n",
       "\\item 'digits'\n",
       "\\item 'max.width'\n",
       "\\item 'vector.x'\n",
       "\\item 'expected'\n",
       "\\item 'prop.chisq'\n",
       "\\item 'resid'\n",
       "\\item 'sresid'\n",
       "\\item 'asresid'\n",
       "\\item 'format'\n",
       "\\item 'cell.layout'\n",
       "\\item 'row.labels'\n",
       "\\item 'percent'\n",
       "\\item 'total.r'\n",
       "\\item 'total.c'\n",
       "\\item 't'\n",
       "\\end{enumerate*}\n"
      ],
      "text/markdown": [
       "1. 'tab'\n",
       "2. 'prop.row'\n",
       "3. 'prop.col'\n",
       "4. 'prop.tbl'\n",
       "5. 'gt'\n",
       "6. 'rs'\n",
       "7. 'cs'\n",
       "8. 'total.n'\n",
       "9. 'chisq'\n",
       "10. 'CST'\n",
       "11. 'chisq.corr'\n",
       "12. 'fisher.ts'\n",
       "13. 'fisher.lt'\n",
       "14. 'fisher.gt'\n",
       "15. 'print.mcnemar'\n",
       "16. 'mcnemar'\n",
       "17. 'mcnemar.corr'\n",
       "18. 'asr'\n",
       "19. 'RowData'\n",
       "20. 'ColData'\n",
       "21. 'digits'\n",
       "22. 'max.width'\n",
       "23. 'vector.x'\n",
       "24. 'expected'\n",
       "25. 'prop.chisq'\n",
       "26. 'resid'\n",
       "27. 'sresid'\n",
       "28. 'asresid'\n",
       "29. 'format'\n",
       "30. 'cell.layout'\n",
       "31. 'row.labels'\n",
       "32. 'percent'\n",
       "33. 'total.r'\n",
       "34. 'total.c'\n",
       "35. 't'\n",
       "\n",
       "\n"
      ],
      "text/plain": [
       " [1] \"tab\"           \"prop.row\"      \"prop.col\"      \"prop.tbl\"     \n",
       " [5] \"gt\"            \"rs\"            \"cs\"            \"total.n\"      \n",
       " [9] \"chisq\"         \"CST\"           \"chisq.corr\"    \"fisher.ts\"    \n",
       "[13] \"fisher.lt\"     \"fisher.gt\"     \"print.mcnemar\" \"mcnemar\"      \n",
       "[17] \"mcnemar.corr\"  \"asr\"           \"RowData\"       \"ColData\"      \n",
       "[21] \"digits\"        \"max.width\"     \"vector.x\"      \"expected\"     \n",
       "[25] \"prop.chisq\"    \"resid\"         \"sresid\"        \"asresid\"      \n",
       "[29] \"format\"        \"cell.layout\"   \"row.labels\"    \"percent\"      \n",
       "[33] \"total.r\"       \"total.c\"       \"t\"            "
      ]
     },
     "metadata": {},
     "output_type": "display_data"
    }
   ],
   "source": [
    "names(crosstabulation)"
   ]
  },
  {
   "cell_type": "code",
   "execution_count": 133,
   "metadata": {},
   "outputs": [
    {
     "data": {
      "text/plain": [
       "    y\n",
       "x      1   2   3   4   5  98  99\n",
       "  1  664 701 335 101  33   1   1\n",
       "  2   86  89  24   6   4   2   0\n",
       "  99   0   1   0   0   0   0   0"
      ]
     },
     "metadata": {},
     "output_type": "display_data"
    }
   ],
   "source": [
    "crosstabulation$tab"
   ]
  },
  {
   "cell_type": "code",
   "execution_count": 134,
   "metadata": {},
   "outputs": [
    {
     "data": {
      "text/plain": [
       "\n",
       "\tPearson's Chi-squared test\n",
       "\n",
       "data:  tab\n",
       "X-squared = 21.557, df = 12, p-value = 0.0428\n"
      ]
     },
     "metadata": {},
     "output_type": "display_data"
    }
   ],
   "source": [
    "crosstabulation$CST"
   ]
  }
 ],
 "metadata": {
  "kernelspec": {
   "display_name": "R",
   "language": "R",
   "name": "ir"
  },
  "language_info": {
   "codemirror_mode": "r",
   "file_extension": ".r",
   "mimetype": "text/x-r-source",
   "name": "R",
   "pygments_lexer": "r",
   "version": "3.5.1"
  }
 },
 "nbformat": 4,
 "nbformat_minor": 2
}
